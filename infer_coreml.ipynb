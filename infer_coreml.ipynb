{
 "cells": [
  {
   "cell_type": "code",
   "execution_count": null,
   "id": "initial_id",
   "metadata": {
    "collapsed": true
   },
   "outputs": [],
   "source": "!pip install coremltools"
  },
  {
   "metadata": {
    "ExecuteTime": {
     "end_time": "2024-12-23T05:59:56.939996Z",
     "start_time": "2024-12-23T05:59:51.831308Z"
    }
   },
   "cell_type": "code",
   "source": [
    "import coremltools as ct\n",
    "from PIL import Image"
   ],
   "id": "22a23056c3b09efa",
   "outputs": [
    {
     "name": "stderr",
     "output_type": "stream",
     "text": [
      "Torch version 2.5.1 has not been tested with coremltools. You may run into unexpected errors. Torch 1.13.1 is the most recent version that has been tested.\n"
     ]
    }
   ],
   "execution_count": 1
  },
  {
   "metadata": {
    "ExecuteTime": {
     "end_time": "2024-12-23T06:00:46.128505Z",
     "start_time": "2024-12-23T06:00:41.823227Z"
    }
   },
   "cell_type": "code",
   "source": "model = ct.models.MLModel('/Users/selimgilon/Desktop/SportBoost/yolo-flutter/yolo-flutter-app/example/assets/yolov8n-pose.mlmodel')",
   "id": "de9f86de9b81f445",
   "outputs": [
    {
     "ename": "FileNotFoundError",
     "evalue": "[Errno 2] No such file or directory: \"/Users/selimgilon/Desktop/SportBoost/YOLO11/y.png'\"",
     "output_type": "error",
     "traceback": [
      "\u001B[0;31m---------------------------------------------------------------------------\u001B[0m",
      "\u001B[0;31mFileNotFoundError\u001B[0m                         Traceback (most recent call last)",
      "Cell \u001B[0;32mIn[4], line 2\u001B[0m\n\u001B[1;32m      1\u001B[0m model \u001B[38;5;241m=\u001B[39m ct\u001B[38;5;241m.\u001B[39mmodels\u001B[38;5;241m.\u001B[39mMLModel(\u001B[38;5;124m'\u001B[39m\u001B[38;5;124m/Users/selimgilon/Desktop/SportBoost/yolo-flutter/yolo-flutter-app/example/assets/yolov8n-pose.mlmodel\u001B[39m\u001B[38;5;124m'\u001B[39m)\n\u001B[0;32m----> 2\u001B[0m img \u001B[38;5;241m=\u001B[39m \u001B[43mImage\u001B[49m\u001B[38;5;241;43m.\u001B[39;49m\u001B[43mopen\u001B[49m\u001B[43m(\u001B[49m\u001B[38;5;124;43m\"\u001B[39;49m\u001B[38;5;124;43my.png\u001B[39;49m\u001B[38;5;124;43m'\u001B[39;49m\u001B[38;5;124;43m\"\u001B[39;49m\u001B[43m)\u001B[49m\u001B[38;5;241m.\u001B[39mresize((\u001B[38;5;241m640\u001B[39m, \u001B[38;5;241m640\u001B[39m))\n",
      "File \u001B[0;32m~/Desktop/SportBoost/YOLO11/.venv10/lib/python3.10/site-packages/PIL/Image.py:3469\u001B[0m, in \u001B[0;36mopen\u001B[0;34m(fp, mode, formats)\u001B[0m\n\u001B[1;32m   3466\u001B[0m     filename \u001B[38;5;241m=\u001B[39m os\u001B[38;5;241m.\u001B[39mpath\u001B[38;5;241m.\u001B[39mrealpath(os\u001B[38;5;241m.\u001B[39mfspath(fp))\n\u001B[1;32m   3468\u001B[0m \u001B[38;5;28;01mif\u001B[39;00m filename:\n\u001B[0;32m-> 3469\u001B[0m     fp \u001B[38;5;241m=\u001B[39m \u001B[43mbuiltins\u001B[49m\u001B[38;5;241;43m.\u001B[39;49m\u001B[43mopen\u001B[49m\u001B[43m(\u001B[49m\u001B[43mfilename\u001B[49m\u001B[43m,\u001B[49m\u001B[43m \u001B[49m\u001B[38;5;124;43m\"\u001B[39;49m\u001B[38;5;124;43mrb\u001B[39;49m\u001B[38;5;124;43m\"\u001B[39;49m\u001B[43m)\u001B[49m\n\u001B[1;32m   3470\u001B[0m     exclusive_fp \u001B[38;5;241m=\u001B[39m \u001B[38;5;28;01mTrue\u001B[39;00m\n\u001B[1;32m   3471\u001B[0m \u001B[38;5;28;01melse\u001B[39;00m:\n",
      "\u001B[0;31mFileNotFoundError\u001B[0m: [Errno 2] No such file or directory: \"/Users/selimgilon/Desktop/SportBoost/YOLO11/y.png'\""
     ]
    }
   ],
   "execution_count": 4
  },
  {
   "metadata": {
    "ExecuteTime": {
     "end_time": "2024-12-23T06:02:21.712957Z",
     "start_time": "2024-12-23T06:02:21.468481Z"
    }
   },
   "cell_type": "code",
   "source": "",
   "id": "b33917d9c6b739db",
   "outputs": [],
   "execution_count": 11
  },
  {
   "metadata": {
    "ExecuteTime": {
     "end_time": "2024-12-23T06:01:36.873867Z",
     "start_time": "2024-12-23T06:01:36.865055Z"
    }
   },
   "cell_type": "code",
   "source": "model",
   "id": "a76a3c46bbe17501",
   "outputs": [
    {
     "data": {
      "text/plain": [
       "input {\n",
       "  name: \"image\"\n",
       "  type {\n",
       "    imageType {\n",
       "      width: 640\n",
       "      height: 640\n",
       "      colorSpace: RGB\n",
       "    }\n",
       "  }\n",
       "}\n",
       "output {\n",
       "  name: \"var_1035\"\n",
       "  type {\n",
       "    multiArrayType {\n",
       "      dataType: FLOAT32\n",
       "    }\n",
       "  }\n",
       "}\n",
       "metadata {\n",
       "  shortDescription: \"Ultralytics YOLOv8n-pose model trained on /usr/src/app/ultralytics/datasets/coco-pose.yaml\"\n",
       "  versionString: \"8.3.53\"\n",
       "  author: \"Ultralytics\"\n",
       "  license: \"AGPL-3.0 License (https://ultralytics.com/license)\"\n",
       "  userDefined {\n",
       "    key: \"batch\"\n",
       "    value: \"1\"\n",
       "  }\n",
       "  userDefined {\n",
       "    key: \"com.github.apple.coremltools.source\"\n",
       "    value: \"torch==2.5.1+cu121\"\n",
       "  }\n",
       "  userDefined {\n",
       "    key: \"com.github.apple.coremltools.version\"\n",
       "    value: \"6.2\"\n",
       "  }\n",
       "  userDefined {\n",
       "    key: \"date\"\n",
       "    value: \"2024-12-22T18:32:51.438041\"\n",
       "  }\n",
       "  userDefined {\n",
       "    key: \"docs\"\n",
       "    value: \"https://docs.ultralytics.com\"\n",
       "  }\n",
       "  userDefined {\n",
       "    key: \"imgsz\"\n",
       "    value: \"[640, 640]\"\n",
       "  }\n",
       "  userDefined {\n",
       "    key: \"kpt_shape\"\n",
       "    value: \"[17, 3]\"\n",
       "  }\n",
       "  userDefined {\n",
       "    key: \"names\"\n",
       "    value: \"{0: \\'person\\'}\"\n",
       "  }\n",
       "  userDefined {\n",
       "    key: \"stride\"\n",
       "    value: \"32\"\n",
       "  }\n",
       "  userDefined {\n",
       "    key: \"task\"\n",
       "    value: \"pose\"\n",
       "  }\n",
       "}"
      ]
     },
     "execution_count": 7,
     "metadata": {},
     "output_type": "execute_result"
    }
   ],
   "execution_count": 7
  },
  {
   "metadata": {},
   "cell_type": "code",
   "outputs": [],
   "execution_count": null,
   "source": "",
   "id": "823208b4c2dd8b26"
  },
  {
   "metadata": {
    "ExecuteTime": {
     "end_time": "2024-12-23T06:16:02.128431Z",
     "start_time": "2024-12-23T06:16:01.334453Z"
    }
   },
   "cell_type": "code",
   "source": [
    "import numpy as np\n",
    "from PIL import Image, ImageDraw\n",
    "\n",
    "# Load and preprocess the image\n",
    "img = Image.open(\"s.png\").convert(\"RGB\").resize((640, 640))\n",
    "\n",
    "# Make a prediction\n",
    "spec = model.get_spec()\n",
    "model_input_name = spec.description.input[0].name\n",
    "model_output_name = spec.description.output[0].name\n",
    "\n",
    "coreml_out = model.predict({model_input_name: img})\n",
    "coreml_output_tensor = coreml_out[model_output_name]\n",
    "\n",
    "# Print the shape of the output tensor\n",
    "print(\"Shape of CoreML output: \", coreml_output_tensor.shape)\n",
    "\n",
    "# Parameters\n",
    "confidence_threshold = 0.2\n",
    "iou_threshold = 0.5\n",
    "\n",
    "# Helper function to compute IoU\n",
    "def compute_iou(box1, box2):\n",
    "    x1 = max(box1[0], box2[0])\n",
    "    y1 = max(box1[1], box2[1])\n",
    "    x2 = min(box1[2], box2[2])\n",
    "    y2 = min(box1[3], box2[3])\n",
    "\n",
    "    inter_area = max(0, x2 - x1) * max(0, y2 - y1)\n",
    "    box1_area = (box1[2] - box1[0]) * (box1[3] - box1[1])\n",
    "    box2_area = (box2[2] - box2[0]) * (box2[3] - box2[1])\n",
    "    union_area = box1_area + box2_area - inter_area\n",
    "\n",
    "    return inter_area / union_area if union_area > 0 else 0\n",
    "\n",
    "# Parse the output and filter by confidence\n",
    "detections = coreml_output_tensor[0]  # Shape: (56, 8400)\n",
    "num_detections = detections.shape[1]\n",
    "\n",
    "filtered_detections = []\n",
    "\n",
    "for detection_index in range(num_detections):\n",
    "    detection = detections[:, detection_index]\n",
    "\n",
    "    # Extract bounding box coordinates (center_x, center_y, width, height)\n",
    "    center_x, center_y, width, height = detection[:4]\n",
    "\n",
    "    # Extract confidence score\n",
    "    confidence = detection[4]\n",
    "\n",
    "    if confidence < confidence_threshold:\n",
    "        continue  # Skip low-confidence detections\n",
    "\n",
    "    # Bounding box coordinates\n",
    "    bbox_x1 = (center_x - width / 2)\n",
    "    bbox_y1 = (center_y - height / 2)\n",
    "    bbox_x2 = (center_x + width / 2)\n",
    "    bbox_y2 = (center_y + height / 2)\n",
    "\n",
    "    # Extract keypoints (17 keypoints × (x, y, confidence))\n",
    "    keypoints = detection[5:].reshape(-1, 3)\n",
    "    filtered_detections.append({\n",
    "        \"bbox\": [bbox_x1, bbox_y1, bbox_x2, bbox_y2],\n",
    "        \"confidence\": confidence,\n",
    "        \"keypoints\": keypoints\n",
    "    })\n",
    "\n",
    "# Apply Non-Maximum Suppression (NMS)\n",
    "filtered_detections.sort(key=lambda x: x[\"confidence\"], reverse=True)  # Sort by confidence\n",
    "final_detections = []\n",
    "\n",
    "while filtered_detections:\n",
    "    best_detection = filtered_detections.pop(0)\n",
    "    final_detections.append(best_detection)\n",
    "\n",
    "    filtered_detections = [\n",
    "        det for det in filtered_detections\n",
    "        if compute_iou(best_detection[\"bbox\"], det[\"bbox\"]) < iou_threshold\n",
    "    ]\n",
    "\n",
    "# Draw keypoints and bounding boxes on the image\n",
    "draw = ImageDraw.Draw(img)\n",
    "\n",
    "for det in final_detections:\n",
    "    bbox = det[\"bbox\"]\n",
    "    keypoints = det[\"keypoints\"]\n",
    "\n",
    "    # Draw bounding box\n",
    "    draw.rectangle(bbox, outline=\"red\", width=2)\n",
    "\n",
    "    # Draw keypoints\n",
    "    for x, y, conf in keypoints:\n",
    "        if conf > confidence_threshold:\n",
    "            draw.ellipse([(x - 2, y - 2), (x + 2, y + 2)], fill=\"black\")\n",
    "\n",
    "# Show the image with keypoints and bounding boxes\n",
    "img.show()\n"
   ],
   "id": "88b9523fc6e33ba3",
   "outputs": [
    {
     "name": "stdout",
     "output_type": "stream",
     "text": [
      "Shape of CoreML output:  (1, 56, 8400)\n"
     ]
    }
   ],
   "execution_count": 22
  },
  {
   "metadata": {
    "ExecuteTime": {
     "end_time": "2024-12-23T06:05:34.431406Z",
     "start_time": "2024-12-23T06:05:34.420146Z"
    }
   },
   "cell_type": "code",
   "source": "coreml_output_tensor",
   "id": "3d5ca1350ca2955d",
   "outputs": [
    {
     "data": {
      "text/plain": [
       "array([[[9.49218750e+00, 1.74375000e+01, 2.41718750e+01, ...,\n",
       "         5.26500000e+02, 5.43500000e+02, 5.74500000e+02],\n",
       "        [1.95156250e+01, 1.71250000e+01, 1.17890625e+01, ...,\n",
       "         5.65000000e+02, 4.98750000e+02, 4.57250000e+02],\n",
       "        [2.74687500e+01, 4.04375000e+01, 5.16875000e+01, ...,\n",
       "         2.36250000e+02, 2.36250000e+02, 1.47000000e+02],\n",
       "        ...,\n",
       "        [5.89355469e-01, 1.37890625e+01, 1.80156250e+01, ...,\n",
       "         5.47000000e+02, 5.77000000e+02, 5.95000000e+02],\n",
       "        [2.78281250e+01, 2.66093750e+01, 2.50781250e+01, ...,\n",
       "         5.88000000e+02, 5.93000000e+02, 6.02500000e+02],\n",
       "        [9.57031250e-02, 1.24755859e-01, 1.25732422e-01, ...,\n",
       "         9.76562500e-02, 6.90917969e-02, 5.54199219e-02]]], dtype=float32)"
      ]
     },
     "execution_count": 14,
     "metadata": {},
     "output_type": "execute_result"
    }
   ],
   "execution_count": 14
  },
  {
   "metadata": {},
   "cell_type": "code",
   "outputs": [],
   "execution_count": null,
   "source": "",
   "id": "a52c648a70fcc983"
  }
 ],
 "metadata": {
  "kernelspec": {
   "display_name": "Python 3",
   "language": "python",
   "name": "python3"
  },
  "language_info": {
   "codemirror_mode": {
    "name": "ipython",
    "version": 2
   },
   "file_extension": ".py",
   "mimetype": "text/x-python",
   "name": "python",
   "nbconvert_exporter": "python",
   "pygments_lexer": "ipython2",
   "version": "2.7.6"
  }
 },
 "nbformat": 4,
 "nbformat_minor": 5
}
